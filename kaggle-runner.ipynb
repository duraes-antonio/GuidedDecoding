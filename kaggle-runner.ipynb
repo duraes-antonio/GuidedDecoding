{
 "cells": [
  {
   "metadata": {},
   "cell_type": "markdown",
   "source": "# Environment Setup",
   "id": "f740e09f0d50c21d"
  },
  {
   "cell_type": "code",
   "execution_count": null,
   "id": "initial_id",
   "metadata": {
    "collapsed": true
   },
   "outputs": [],
   "source": [
    "# Remova o diretório antes de clonar o repositório\n",
    "!rm -r seg_depth"
   ]
  },
  {
   "metadata": {},
   "cell_type": "code",
   "outputs": [],
   "execution_count": null,
   "source": [
    "# Clone o repositório\n",
    "!git clone https://github.com/duraes-antonio/seg_depth"
   ],
   "id": "7110df5eb8d30ef7"
  },
  {
   "metadata": {},
   "cell_type": "code",
   "outputs": [],
   "execution_count": null,
   "source": [
    "# Mude para o diretório do repositório\n",
    "%cd seg_depth"
   ],
   "id": "dcd061a272fef518"
  },
  {
   "metadata": {},
   "cell_type": "markdown",
   "source": "# Depth Estimation",
   "id": "a9968f05709ec027"
  },
  {
   "metadata": {},
   "cell_type": "markdown",
   "source": "## Prepare Dataset",
   "id": "2df346cb26b3ce16"
  },
  {
   "metadata": {},
   "cell_type": "code",
   "outputs": [],
   "execution_count": null,
   "source": [
    "# Download dataset de treino + validação\n",
    "!gdown 11E9hVtTqwRwPkKyEf_yKU3q_Gb0ngl2a"
   ],
   "id": "cfdc60ff06c520e6"
  },
  {
   "metadata": {},
   "cell_type": "code",
   "outputs": [],
   "execution_count": null,
   "source": [
    "!unzip -qq nyu_data.zip\n",
    "!rm nyu_data.zip"
   ],
   "id": "f5c68126e2e15764"
  },
  {
   "metadata": {},
   "cell_type": "code",
   "outputs": [],
   "execution_count": null,
   "source": [
    "# Download dataset de teste\n",
    "!gdown 1mNj2aC1ongKLkjaVRYArvbr26xwMEmJG"
   ],
   "id": "b58081fdec0ffbe4"
  },
  {
   "metadata": {},
   "cell_type": "markdown",
   "source": "## Prepare networks weights",
   "id": "f2c6fb402955953a"
  },
  {
   "metadata": {},
   "cell_type": "code",
   "outputs": [],
   "execution_count": null,
   "source": "folder_weight_name = 'pretrained.zip'",
   "id": "23532dd1943d050e"
  },
  {
   "metadata": {},
   "cell_type": "code",
   "outputs": [],
   "execution_count": null,
   "source": [
    "# Download dos pesos do ViT-R50 para TransUnet\n",
    "!gdown 1Krx3KE6JWAIScIZSsxevkySn_xOqLU5i"
   ],
   "id": "cf9d0038e158601e"
  },
  {
   "metadata": {},
   "cell_type": "code",
   "outputs": [],
   "execution_count": null,
   "source": [
    "!unzip -qq $folder_weight_name\n",
    "!rm $folder_weight_name"
   ],
   "id": "3fe34901eee3f768"
  },
  {
   "metadata": {},
   "cell_type": "markdown",
   "source": "## Train",
   "id": "16b04c0dfd028239"
  },
  {
   "metadata": {},
   "cell_type": "code",
   "outputs": [],
   "execution_count": null,
   "source": [
    "from options.dataset_resolution import Resolutions\n",
    "from options.model import Models\n",
    "\n",
    "batch_size = 8\n",
    "workers = 2\n",
    "epochs = 70\n",
    "resolution = Resolutions.Half2\n",
    "# clp = 'segmentation/unet_mt-b3/base_model-unet_mt-b3_factor-1_ds-usage-100_batch-2_opt-0_scheduler-0_\\{epoch\\}_model.pth'\n",
    "clp = ''\n",
    "model = Models.UNetMixedTransformerB2\n",
    "run_dir = 'base_ds-100'"
   ],
   "id": "78dc265a31f27b84"
  },
  {
   "metadata": {},
   "cell_type": "code",
   "outputs": [],
   "execution_count": null,
   "source": "!python lightning_main_depth.py -b $batch_size -w $workers -e $epochs -s $resolution -clp $clp -mr train -rd $run_dir -du 100 -m $model",
   "id": "bde6e221a5d49b82"
  },
  {
   "metadata": {},
   "cell_type": "markdown",
   "source": "# Upload files to Google Drive",
   "id": "95492f64be1d7139"
  },
  {
   "metadata": {},
   "cell_type": "code",
   "outputs": [],
   "execution_count": null,
   "source": [
    "from infra.consts.environment import Environment\n",
    "\n",
    "env = Environment.KAGGLE"
   ],
   "id": "e13452735f35a614"
  },
  {
   "metadata": {},
   "cell_type": "code",
   "outputs": [],
   "execution_count": null,
   "source": [
    "from google.auth.credentials import Credentials\n",
    "from google.oauth2 import service_account\n",
    "from googleapiclient.discovery import build\n",
    "\n",
    "class GoogleDriveService:\n",
    "    def __init__(self, credential_filename: str):\n",
    "        credentials = self.__authenticate__(credential_filename)\n",
    "        self.service = self.__build_service__(credentials)\n",
    "\n",
    "    @staticmethod\n",
    "    def __authenticate__(filename: str) -> Credentials:\n",
    "        credentials = service_account.Credentials.from_service_account_info(\n",
    "            filename, scopes=[\"https://www.googleapis.com/auth/drive\"]\n",
    "        )\n",
    "        return credentials\n",
    "\n",
    "    @staticmethod\n",
    "    def __build_service__(credentials: Credentials):\n",
    "        return build(\"drive\", \"v3\", credentials=credentials)\n",
    "\n",
    "    def upload_file(\n",
    "            self,\n",
    "            file_path: str,\n",
    "            parent_folder_id: str,\n",
    "            new_file_name: str = None\n",
    "    ) -> str:\n",
    "        file_metadata = {\n",
    "            'name': new_file_name or file_path.split('/')[-1],\n",
    "            'parents': [parent_folder_id]\n",
    "        }\n",
    "        file = self.service.files().create(\n",
    "            body=file_metadata,\n",
    "            media_body=file_path,\n",
    "            fields='id'\n",
    "        ).execute()\n",
    "        return file.get('id')"
   ],
   "id": "4792ca7f0a21b0d0"
  },
  {
   "metadata": {},
   "cell_type": "code",
   "outputs": [],
   "execution_count": null,
   "source": [
    "import ast, os\n",
    "import dotenv\n",
    "\n",
    "env_vars = {}\n",
    "\n",
    "if env is Environment.KAGGLE:\n",
    "    from kaggle_secrets import UserSecretsClient\n",
    "    user_secrets = UserSecretsClient()\n",
    "    env_vars = {\n",
    "        'google_credentials': ast.literal_eval(user_secrets.get_secret(\"GOOGLE_CREDENTIALS_JSON\")),\n",
    "    }\n",
    "\n",
    "else:\n",
    "    colab_env_path = '../drive/MyDrive/unet_depth/auth/.env'\n",
    "    local_env_path = './.env'\n",
    "    dotenv.load_dotenv(colab_env_path if env is Environment.COLAB else local_env_path)\n",
    "    env_vars = {\n",
    "        'google_credentials': ast.literal_eval(os.environ[\"GOOGLE_CREDENTIALS_JSON\"]),\n",
    "    }"
   ],
   "id": "8ad219c2109e376d"
  },
  {
   "metadata": {},
   "cell_type": "code",
   "outputs": [],
   "execution_count": null,
   "source": [
    "google_drive_service = GoogleDriveService(env_vars['google_credentials'])\n",
    "google_drive_service.upload_file()"
   ],
   "id": "b9b85fcaabcde975"
  }
 ],
 "metadata": {
  "kernelspec": {
   "display_name": "Python 3",
   "language": "python",
   "name": "python3"
  },
  "language_info": {
   "codemirror_mode": {
    "name": "ipython",
    "version": 2
   },
   "file_extension": ".py",
   "mimetype": "text/x-python",
   "name": "python",
   "nbconvert_exporter": "python",
   "pygments_lexer": "ipython2",
   "version": "2.7.6"
  }
 },
 "nbformat": 4,
 "nbformat_minor": 5
}
